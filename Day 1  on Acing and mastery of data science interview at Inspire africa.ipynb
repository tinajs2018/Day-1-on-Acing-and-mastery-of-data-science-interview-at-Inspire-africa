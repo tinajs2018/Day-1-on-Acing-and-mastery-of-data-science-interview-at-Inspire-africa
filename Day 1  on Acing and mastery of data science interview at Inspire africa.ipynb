{
 "cells": [
  {
   "cell_type": "code",
   "execution_count": null,
   "metadata": {},
   "outputs": [],
   "source": [
    "You’re given two dataframes: transactions and products_sold.\n",
    "The transactions dataframe contains transaction ids, product ids, and the total amount of each product sold.\n",
    "The products dataframe contains product ids and prices.\n",
    "Write a function to return a dataframe containing every transaction with a total value of over $100. \n",
    "Include the total value of the transaction as a new column in the dataframe."
   ]
  },
  {
   "cell_type": "markdown",
   "metadata": {},
   "source": [
    "# Solution\n",
    "SELECT  transaction ids,total amount\n",
    "WHERE total amount >100"
   ]
  },
  {
   "cell_type": "markdown",
   "metadata": {},
   "source": [
    "Write a function to generate N samples from a normal distribution and plot the histogram. You may omit the plot to test your code."
   ]
  },
  {
   "cell_type": "code",
   "execution_count": 5,
   "metadata": {},
   "outputs": [
    {
     "name": "stdout",
     "output_type": "stream",
     "text": [
      "[ 0.26098669 -0.56926531  0.89388883 -0.39980407  0.00868311  0.2557449\n",
      " -0.89250499  0.21746161  1.11686161 -0.07240888  0.62523248 -0.48067571\n",
      "  0.22220409 -2.07264391 -0.64327473 -0.54256596 -1.10304801  0.94289416\n",
      " -1.9724645  -1.14687762]\n"
     ]
    }
   ],
   "source": [
    "#importing the module\n",
    "#let N be 30\n",
    "import numpy as np\n",
    "r=np.random.normal(size=20)\n",
    "print(r)\n"
   ]
  },
  {
   "cell_type": "code",
   "execution_count": 4,
   "metadata": {},
   "outputs": [
    {
     "data": {
      "image/png": "[encoded data removed]",
      "text/plain": [
       "<Figure size 432x288 with 1 Axes>"
      ]
     },
     "metadata": {
      "needs_background": "light"
     },
     "output_type": "display_data"
    }
   ],
   "source": [
    "#drwaing the  histogram\n",
    "import  matplotlib.pyplot as plt\n",
    "plt.hist(r)\n",
    "plt.title('Normal distribution of N samples')\n",
    "plt.show()"
   ]
  },
  {
   "cell_type": "markdown",
   "metadata": {},
   "source": [
    "Let’s say that your company is running a standard control and variant AB test on a feature to increase conversion rates on the landing page. The PM checks the results and finds a .04 p-value.How would you assess the validity of the result?"
   ]
  },
  {
   "cell_type": "code",
   "execution_count": null,
   "metadata": {},
   "outputs": [],
   "source": [
    "#solution \n",
    "At this you got have the null  hypothesis and alternative hypothesis (It vital to ask the interviewer)\n",
    "our \n",
    "H0: Increase in increase conversion rates on the landing page\n",
    "HI: Decrease in increase conversion rates on the landing page\n",
    "\n",
    "P-value 0.04 < 0.05 hence we  reject the null hypothesis\n",
    "\n",
    "Therefore  their was Decrease in increase conversion rates on the landing page"
   ]
  },
  {
   "cell_type": "markdown",
   "metadata": {},
   "source": [
    "You’re asked to build a model to predict booking prices on Airbnb. Which model would perform better, \n",
    "linear regression or random forest regression?"
   ]
  },
  {
   "cell_type": "code",
   "execution_count": null,
   "metadata": {},
   "outputs": [],
   "source": [
    "#Solution\n",
    "The solution to this answer  is influenced by the number  features  that exist in our dataset.\n",
    "\n",
    "We can assume the dataset will have features like:\n",
    "location features\n",
    "Seasonality\n",
    "number of bedrooms and bathrooms\n",
    "private room, shared, entire home, etc..\n",
    "External demand (conferences, festivals)\n",
    "\n",
    "Linear Regression will be a great solution If we were to measure the price of bookings in just one city\n",
    "\n",
    "But let’s say we have thousands of features in our dataset to try and predict prices for\n",
    "different types of homes across the world, random forest regression model  would be the best choice            "
   ]
  },
  {
   "cell_type": "code",
   "execution_count": null,
   "metadata": {},
   "outputs": [],
   "source": [
    "Happy coding nerds!"
   ]
  }
 ],
 "metadata": {
  "kernelspec": {
   "display_name": "Python 3",
   "language": "python",
   "name": "python3"
  },
  "language_info": {
   "codemirror_mode": {
    "name": "ipython",
    "version": 3
   },
   "file_extension": ".py",
   "mimetype": "text/x-python",
   "name": "python",
   "nbconvert_exporter": "python",
   "pygments_lexer": "ipython3",
   "version": "3.7.6"
  }
 },
 "nbformat": 4,
 "nbformat_minor": 4
}
